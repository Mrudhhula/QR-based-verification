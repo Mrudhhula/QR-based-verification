{
 "cells": [
  {
   "cell_type": "code",
   "execution_count": 1,
   "id": "b161dc58-8fcc-4f19-b92e-caa1e3159079",
   "metadata": {},
   "outputs": [],
   "source": [
    "import cv2\n",
    "import numpy as np\n",
    "from pyzbar.pyzbar import decode\n",
    "import qrcode\n"
   ]
  },
  {
   "cell_type": "code",
   "execution_count": 2,
   "id": "2b959ae8-a763-4140-8220-aadd6de660b5",
   "metadata": {},
   "outputs": [],
   "source": [
    "data='101'\n",
    "img=qrcode.make(data)\n",
    "filename='sample.png'\n",
    "img.save(filename)"
   ]
  },
  {
   "cell_type": "code",
   "execution_count": 3,
   "id": "408c0911-18c7-4d58-ba59-49c22d0905ed",
   "metadata": {},
   "outputs": [],
   "source": [
    "data='141'\n",
    "img1=qrcode.make(data)\n",
    "filename='sample2.png'\n",
    "img1.save(filename)"
   ]
  },
  {
   "cell_type": "code",
   "execution_count": 5,
   "id": "3a07f85a-192b-43ae-a01f-9177c20fb554",
   "metadata": {},
   "outputs": [
    {
     "name": "stdout",
     "output_type": "stream",
     "text": [
      "141\n"
     ]
    }
   ],
   "source": [
    "img=cv2.imread('/mlProjects/sample2.png')\n",
    "for code in decode(img):\n",
    "        info = code.data.decode('utf-8')\n",
    "        print(info)"
   ]
  },
  {
   "cell_type": "code",
   "execution_count": null,
   "id": "40c62ec1-1232-44a4-a535-4ce224c80a67",
   "metadata": {},
   "outputs": [],
   "source": [
    "cap = cv2.VideoCapture(0)\n",
    "cap.set(3,640)\n",
    "cap.set(4,480)\n",
    " \n",
    "with open('/mlProjects/authorized_id.txt') as f:\n",
    "    idFile = f.read().splitlines()\n",
    " \n",
    "while True:\n",
    " \n",
    "    success, img = cap.read()\n",
    "    for code in decode(img):\n",
    "        info = code.data.decode('utf-8')\n",
    "        \n",
    "        if info in idFile:\n",
    "            output = 'Authorized id'\n",
    "            color = (0,255,0)\n",
    "        else:\n",
    "            output = 'Unauthorized id'\n",
    "            color = (0, 0, 255)\n",
    " \n",
    "        pt = np.array([code.polygon],np.int32)\n",
    "        pt = pt.reshape((-1,1,2))\n",
    "        cv2.polylines(img,[pt],True,color,5)\n",
    "        pt1 = code.rect\n",
    "        cv2.putText(img,output,(pt1[0],pt1[1]),cv2.FONT_HERSHEY_SIMPLEX,\n",
    "                    0.8,color,2)\n",
    " \n",
    "    cv2.imshow('Result',img)\n",
    "    cv2.waitKey(1)\n",
    "cv2.destroyAllWindows()"
   ]
  },
  {
   "cell_type": "code",
   "execution_count": null,
   "id": "867c28a8-a9f3-46e0-812a-80c09c7cc4c2",
   "metadata": {},
   "outputs": [],
   "source": []
  },
  {
   "cell_type": "code",
   "execution_count": null,
   "id": "01f988ec-6dc8-46b1-b187-882d7f1f01f5",
   "metadata": {},
   "outputs": [],
   "source": []
  }
 ],
 "metadata": {
  "kernelspec": {
   "display_name": "Python 3 (ipykernel)",
   "language": "python",
   "name": "python3"
  },
  "language_info": {
   "codemirror_mode": {
    "name": "ipython",
    "version": 3
   },
   "file_extension": ".py",
   "mimetype": "text/x-python",
   "name": "python",
   "nbconvert_exporter": "python",
   "pygments_lexer": "ipython3",
   "version": "3.9.12"
  }
 },
 "nbformat": 4,
 "nbformat_minor": 5
}
